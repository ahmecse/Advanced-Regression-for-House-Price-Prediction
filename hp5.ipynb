{
 "cells": [
  {
   "cell_type": "code",
   "execution_count": 3,
   "id": "823f1924",
   "metadata": {},
   "outputs": [],
   "source": [
    "import streamlit as st\n",
    "import joblib\n",
    "import pandas as pd\n",
    "import numpy as np\n",
    "\n",
    "# Load the trained Ridge model\n",
    "filename = 'ridge_model.joblib'\n",
    "loaded_ridge_model = joblib.load(filename)\n",
    "\n",
    "# Streamlit web application\n",
    "st.title('House Price Prediction App')\n",
    "\n",
    "features = pd.read_csv('house_price_features.csv')\n",
    "columns = features.columns\n",
    "columns_list = columns.to_list()\n",
    "\n",
    "# Upload CSV file\n",
    "uploaded_file = st.file_uploader(\"Upload CSV file\", type=[\"csv\"])\n",
    "\n",
    "if uploaded_file is not None:\n",
    "    # Read the uploaded CSV file\n",
    "    df = pd.read_csv(uploaded_file)\n",
    "    \n",
    "    object_columns = df.select_dtypes(include='object').columns.tolist()\n",
    "    numerical_columns = df.select_dtypes(include=['int', 'float']).columns.tolist()\n",
    "\n",
    "    # Check if all numerical columns exist in the DataFrame\n",
    "    missing_columns = set(numerical_columns) - set(df.columns)\n",
    "    if missing_columns:\n",
    "        st.error(f\"Missing columns in uploaded CSV: {', '.join(missing_columns)}\")\n",
    "    else:\n",
    "        # Perform preprocessing for numerical columns\n",
    "        skewness = df[numerical_columns].skew()\n",
    "        skewed_columns = skewness[(skewness > 1) | (skewness < -1)]\n",
    "        for feature in skewed_columns:\n",
    "            df[feature] = np.log1p(df[feature])\n",
    "\n",
    "        # Perform one-hot encoding for object columns\n",
    "        df = pd.get_dummies(df, columns=object_columns, drop_first=True)\n",
    "\n",
    "        # Predict using the loaded Ridge model\n",
    "        prediction = loaded_ridge_model.predict(df)\n",
    "        st.subheader('Predicted Price:')\n",
    "        st.write(prediction)\n"
   ]
  },
  {
   "cell_type": "code",
   "execution_count": 4,
   "id": "433fd220",
   "metadata": {},
   "outputs": [
    {
     "name": "stdout",
     "output_type": "stream",
     "text": [
      "12.247694320220994\n"
     ]
    }
   ],
   "source": [
    "print(np.log(208500))"
   ]
  },
  {
   "cell_type": "code",
   "execution_count": null,
   "id": "a3f23a0f",
   "metadata": {},
   "outputs": [],
   "source": []
  }
 ],
 "metadata": {
  "kernelspec": {
   "display_name": "Python 3 (ipykernel)",
   "language": "python",
   "name": "python3"
  },
  "language_info": {
   "codemirror_mode": {
    "name": "ipython",
    "version": 3
   },
   "file_extension": ".py",
   "mimetype": "text/x-python",
   "name": "python",
   "nbconvert_exporter": "python",
   "pygments_lexer": "ipython3",
   "version": "3.8.4"
  }
 },
 "nbformat": 4,
 "nbformat_minor": 5
}
